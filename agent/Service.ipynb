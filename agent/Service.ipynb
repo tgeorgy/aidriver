{
 "cells": [
  {
   "cell_type": "code",
   "execution_count": 1,
   "metadata": {
    "collapsed": false
   },
   "outputs": [
    {
     "ename": "/root/torch/install/share/lua/5.1/async/tcp.lua:49: listen: address already in use\nstack traceback:\n\t[C]: in function 'listen'\n\t/root/torch/install/share/lua/5.1/async/tcp.lua:49: in function 'cb'\n\t/root/torch/install/share/lua/5.1/async/tcp.lua:31: in function 'parseUrl'\n\t/root/torch/install/share/lua/5.1/async/tcp.lua:37: in function 'listen'\n\t/root/torch/install/share/lua/5.1/async/http.lua:72: in function 'listen'\n\t/root/torch/install/share/lua/5.1/waffle/app.lua:129: in function 'listen'\n\t[string \"local app = require('waffle')...\"]:9: in main chunk\n\t[C]: in function 'xpcall'\n\t/root/torch/install/share/lua/5.1/itorch/main.lua:209: in function </root/torch/install/share/lua/5.1/itorch/main.lua:173>\n\t/root/torch/install/share/lua/5.1/lzmq/poller.lua:75: in function 'poll'\n\t/root/torch/install/share/lua/5.1/lzmq/impl/loop.lua:307: in function 'poll'\n\t/root/torch/install/share/lua/5.1/lzmq/impl/loop.lua:325: in function 'sleep_ex'\n\t/root/torch/install/share/lua/5.1/lzmq/impl/loop.lua:370: in function 'start'\n\t/root/torch/install/share/lua/5.1/itorch/main.lua:381: in main chunk\n\t[C]: in function 'require'\n\t(command line):1: in main chunk\n\t[C]: at 0x00406670",
     "evalue": "",
     "output_type": "error",
     "traceback": [
      "/root/torch/install/share/lua/5.1/async/tcp.lua:49: listen: address already in use\nstack traceback:\n\t[C]: in function 'listen'\n\t/root/torch/install/share/lua/5.1/async/tcp.lua:49: in function 'cb'\n\t/root/torch/install/share/lua/5.1/async/tcp.lua:31: in function 'parseUrl'\n\t/root/torch/install/share/lua/5.1/async/tcp.lua:37: in function 'listen'\n\t/root/torch/install/share/lua/5.1/async/http.lua:72: in function 'listen'\n\t/root/torch/install/share/lua/5.1/waffle/app.lua:129: in function 'listen'\n\t[string \"local app = require('waffle')...\"]:9: in main chunk\n\t[C]: in function 'xpcall'\n\t/root/torch/install/share/lua/5.1/itorch/main.lua:209: in function </root/torch/install/share/lua/5.1/itorch/main.lua:173>\n\t/root/torch/install/share/lua/5.1/lzmq/poller.lua:75: in function 'poll'\n\t/root/torch/install/share/lua/5.1/lzmq/impl/loop.lua:307: in function 'poll'\n\t/root/torch/install/share/lua/5.1/lzmq/impl/loop.lua:325: in function 'sleep_ex'\n\t/root/torch/install/share/lua/5.1/lzmq/impl/loop.lua:370: in function 'start'\n\t/root/torch/install/share/lua/5.1/itorch/main.lua:381: in main chunk\n\t[C]: in function 'require'\n\t(command line):1: in main chunk\n\t[C]: at 0x00406670"
     ]
    }
   ],
   "source": [
    "local app = require('waffle')\n",
    "require 'json'\n",
    "\n",
    "app.post('/', function(req, res)\n",
    "    print(req)\n",
    "    res.json({engine=1})\n",
    "end)\n",
    "\n",
    "app.listen({port=5010})"
   ]
  }
 ],
 "metadata": {
  "kernelspec": {
   "display_name": "iTorch",
   "language": "lua",
   "name": "itorch"
  },
  "language_info": {
   "name": "lua",
   "version": "5.1"
  }
 },
 "nbformat": 4,
 "nbformat_minor": 0
}
